{
 "cells": [
  {
   "cell_type": "code",
   "execution_count": 339,
   "id": "hispanic-migration",
   "metadata": {},
   "outputs": [],
   "source": [
    "import pandas as pd # linear algebra\n",
    "import numpy as np # data processing"
   ]
  },
  {
   "cell_type": "markdown",
   "id": "literary-reaction",
   "metadata": {},
   "source": [
    "# Introduction"
   ]
  },
  {
   "cell_type": "markdown",
   "id": "unlimited-dream",
   "metadata": {},
   "source": [
    "This is a dummy project that I work on during the pandemic. I made this project because of the rising of people who watch anime. Today, Anime can easily accessed by people. With Netflix as the leader, many people who see their first anime and fell in love in the genre. I myself rarely watch anime, but I have watched some and really like them too. With this project, I hope people can get an easy recommendation for another anime from their first anime that they love."
   ]
  },
  {
   "cell_type": "markdown",
   "id": "ruled-scanning",
   "metadata": {},
   "source": [
    "Special thanks to the references that I used, while making this project:\n",
    "        *[Datacamp](https://www.datacamp.com/community/tutorials/recommender-systems-python)\n",
    "        *[Anime Recommendations Project](https://www.kaggle.com/yonatanrabinovich/anime-recommendations-project)\n"
   ]
  },
  {
   "cell_type": "markdown",
   "id": "colored-activity",
   "metadata": {},
   "source": [
    "# Import File"
   ]
  },
  {
   "cell_type": "code",
   "execution_count": 340,
   "id": "marine-harassment",
   "metadata": {
    "scrolled": false
   },
   "outputs": [
    {
     "data": {
      "text/html": [
       "<div>\n",
       "<style scoped>\n",
       "    .dataframe tbody tr th:only-of-type {\n",
       "        vertical-align: middle;\n",
       "    }\n",
       "\n",
       "    .dataframe tbody tr th {\n",
       "        vertical-align: top;\n",
       "    }\n",
       "\n",
       "    .dataframe thead th {\n",
       "        text-align: right;\n",
       "    }\n",
       "</style>\n",
       "<table border=\"1\" class=\"dataframe\">\n",
       "  <thead>\n",
       "    <tr style=\"text-align: right;\">\n",
       "      <th></th>\n",
       "      <th>title</th>\n",
       "      <th>mediaType</th>\n",
       "      <th>eps</th>\n",
       "      <th>duration</th>\n",
       "      <th>ongoing</th>\n",
       "      <th>startYr</th>\n",
       "      <th>finishYr</th>\n",
       "      <th>sznOfRelease</th>\n",
       "      <th>description</th>\n",
       "      <th>studios</th>\n",
       "      <th>tags</th>\n",
       "      <th>contentWarn</th>\n",
       "      <th>watched</th>\n",
       "      <th>watching</th>\n",
       "      <th>wantWatch</th>\n",
       "      <th>dropped</th>\n",
       "      <th>rating</th>\n",
       "      <th>votes</th>\n",
       "    </tr>\n",
       "  </thead>\n",
       "  <tbody>\n",
       "    <tr>\n",
       "      <th>0</th>\n",
       "      <td>Fullmetal Alchemist: Brotherhood</td>\n",
       "      <td>TV</td>\n",
       "      <td>64.0</td>\n",
       "      <td>NaN</td>\n",
       "      <td>False</td>\n",
       "      <td>2009.0</td>\n",
       "      <td>2010.0</td>\n",
       "      <td>Spring</td>\n",
       "      <td>The foundation of alchemy is based on the law ...</td>\n",
       "      <td>['Bones']</td>\n",
       "      <td>['Action', 'Adventure', 'Drama', 'Fantasy', 'M...</td>\n",
       "      <td>['Animal Abuse', 'Mature Themes', 'Violence', ...</td>\n",
       "      <td>103707.0</td>\n",
       "      <td>14351</td>\n",
       "      <td>25810</td>\n",
       "      <td>2656</td>\n",
       "      <td>4.702</td>\n",
       "      <td>86547.0</td>\n",
       "    </tr>\n",
       "    <tr>\n",
       "      <th>1</th>\n",
       "      <td>your name.</td>\n",
       "      <td>Movie</td>\n",
       "      <td>1.0</td>\n",
       "      <td>107.0</td>\n",
       "      <td>False</td>\n",
       "      <td>2016.0</td>\n",
       "      <td>2016.0</td>\n",
       "      <td>NaN</td>\n",
       "      <td>Mitsuha and Taki are two total strangers livin...</td>\n",
       "      <td>['CoMix Wave Films']</td>\n",
       "      <td>['Drama', 'Romance', 'Body Swapping', 'Gender ...</td>\n",
       "      <td>[]</td>\n",
       "      <td>58831.0</td>\n",
       "      <td>1453</td>\n",
       "      <td>21733</td>\n",
       "      <td>124</td>\n",
       "      <td>4.663</td>\n",
       "      <td>43960.0</td>\n",
       "    </tr>\n",
       "    <tr>\n",
       "      <th>2</th>\n",
       "      <td>A Silent Voice</td>\n",
       "      <td>Movie</td>\n",
       "      <td>1.0</td>\n",
       "      <td>130.0</td>\n",
       "      <td>False</td>\n",
       "      <td>2016.0</td>\n",
       "      <td>2016.0</td>\n",
       "      <td>NaN</td>\n",
       "      <td>After transferring into a new school, a deaf g...</td>\n",
       "      <td>['Kyoto Animation']</td>\n",
       "      <td>['Drama', 'Shounen', 'Disability', 'Melancholy...</td>\n",
       "      <td>['Bullying', 'Mature Themes', 'Suicide']</td>\n",
       "      <td>45892.0</td>\n",
       "      <td>946</td>\n",
       "      <td>17148</td>\n",
       "      <td>132</td>\n",
       "      <td>4.661</td>\n",
       "      <td>33752.0</td>\n",
       "    </tr>\n",
       "    <tr>\n",
       "      <th>3</th>\n",
       "      <td>Haikyuu!! Karasuno High School vs Shiratorizaw...</td>\n",
       "      <td>TV</td>\n",
       "      <td>10.0</td>\n",
       "      <td>NaN</td>\n",
       "      <td>False</td>\n",
       "      <td>2016.0</td>\n",
       "      <td>2016.0</td>\n",
       "      <td>Fall</td>\n",
       "      <td>Picking up where the second season ended, the ...</td>\n",
       "      <td>['Production I.G']</td>\n",
       "      <td>['Shounen', 'Sports', 'Animeism', 'School Club...</td>\n",
       "      <td>[]</td>\n",
       "      <td>25134.0</td>\n",
       "      <td>2183</td>\n",
       "      <td>8082</td>\n",
       "      <td>167</td>\n",
       "      <td>4.660</td>\n",
       "      <td>17422.0</td>\n",
       "    </tr>\n",
       "    <tr>\n",
       "      <th>4</th>\n",
       "      <td>Attack on Titan 3rd Season: Part II</td>\n",
       "      <td>TV</td>\n",
       "      <td>10.0</td>\n",
       "      <td>NaN</td>\n",
       "      <td>False</td>\n",
       "      <td>2019.0</td>\n",
       "      <td>2019.0</td>\n",
       "      <td>Spring</td>\n",
       "      <td>The battle to retake Wall Maria begins now! Wi...</td>\n",
       "      <td>['Wit Studio']</td>\n",
       "      <td>['Action', 'Fantasy', 'Horror', 'Shounen', 'Da...</td>\n",
       "      <td>['Cannibalism', 'Explicit Violence']</td>\n",
       "      <td>21308.0</td>\n",
       "      <td>3217</td>\n",
       "      <td>7864</td>\n",
       "      <td>174</td>\n",
       "      <td>4.650</td>\n",
       "      <td>15789.0</td>\n",
       "    </tr>\n",
       "  </tbody>\n",
       "</table>\n",
       "</div>"
      ],
      "text/plain": [
       "                                               title mediaType   eps  \\\n",
       "0                   Fullmetal Alchemist: Brotherhood        TV  64.0   \n",
       "1                                         your name.     Movie   1.0   \n",
       "2                                     A Silent Voice     Movie   1.0   \n",
       "3  Haikyuu!! Karasuno High School vs Shiratorizaw...        TV  10.0   \n",
       "4                Attack on Titan 3rd Season: Part II        TV  10.0   \n",
       "\n",
       "   duration  ongoing  startYr  finishYr sznOfRelease  \\\n",
       "0       NaN    False   2009.0    2010.0       Spring   \n",
       "1     107.0    False   2016.0    2016.0          NaN   \n",
       "2     130.0    False   2016.0    2016.0          NaN   \n",
       "3       NaN    False   2016.0    2016.0         Fall   \n",
       "4       NaN    False   2019.0    2019.0       Spring   \n",
       "\n",
       "                                         description               studios  \\\n",
       "0  The foundation of alchemy is based on the law ...             ['Bones']   \n",
       "1  Mitsuha and Taki are two total strangers livin...  ['CoMix Wave Films']   \n",
       "2  After transferring into a new school, a deaf g...   ['Kyoto Animation']   \n",
       "3  Picking up where the second season ended, the ...    ['Production I.G']   \n",
       "4  The battle to retake Wall Maria begins now! Wi...        ['Wit Studio']   \n",
       "\n",
       "                                                tags  \\\n",
       "0  ['Action', 'Adventure', 'Drama', 'Fantasy', 'M...   \n",
       "1  ['Drama', 'Romance', 'Body Swapping', 'Gender ...   \n",
       "2  ['Drama', 'Shounen', 'Disability', 'Melancholy...   \n",
       "3  ['Shounen', 'Sports', 'Animeism', 'School Club...   \n",
       "4  ['Action', 'Fantasy', 'Horror', 'Shounen', 'Da...   \n",
       "\n",
       "                                         contentWarn   watched  watching  \\\n",
       "0  ['Animal Abuse', 'Mature Themes', 'Violence', ...  103707.0     14351   \n",
       "1                                                 []   58831.0      1453   \n",
       "2           ['Bullying', 'Mature Themes', 'Suicide']   45892.0       946   \n",
       "3                                                 []   25134.0      2183   \n",
       "4               ['Cannibalism', 'Explicit Violence']   21308.0      3217   \n",
       "\n",
       "   wantWatch  dropped  rating    votes  \n",
       "0      25810     2656   4.702  86547.0  \n",
       "1      21733      124   4.663  43960.0  \n",
       "2      17148      132   4.661  33752.0  \n",
       "3       8082      167   4.660  17422.0  \n",
       "4       7864      174   4.650  15789.0  "
      ]
     },
     "execution_count": 340,
     "metadata": {},
     "output_type": "execute_result"
    }
   ],
   "source": [
    "dataset = pd.read_csv('anime.csv', low_memory=False)\n",
    "dataset.head(5)"
   ]
  },
  {
   "cell_type": "markdown",
   "id": "czech-premiere",
   "metadata": {},
   "source": [
    "All the data are downloaded from : https://www.kaggle.com/alancmathew/anime-dataset/notebooks"
   ]
  },
  {
   "cell_type": "markdown",
   "id": "sunrise-candidate",
   "metadata": {},
   "source": [
    "# Preprocessing and Data Analysis"
   ]
  },
  {
   "cell_type": "code",
   "execution_count": 341,
   "id": "growing-report",
   "metadata": {},
   "outputs": [
    {
     "name": "stdout",
     "output_type": "stream",
     "text": [
      "anime set (row, col): (14578, 18)\n"
     ]
    }
   ],
   "source": [
    "print(f\"anime set (row, col): {dataset.shape}\")"
   ]
  },
  {
   "cell_type": "code",
   "execution_count": 342,
   "id": "dedicated-capability",
   "metadata": {},
   "outputs": [
    {
     "name": "stdout",
     "output_type": "stream",
     "text": [
      "Anime:\n",
      "\n",
      "<class 'pandas.core.frame.DataFrame'>\n",
      "RangeIndex: 14578 entries, 0 to 14577\n",
      "Data columns (total 18 columns):\n",
      " #   Column        Non-Null Count  Dtype  \n",
      "---  ------        --------------  -----  \n",
      " 0   title         14578 non-null  object \n",
      " 1   mediaType     14510 non-null  object \n",
      " 2   eps           14219 non-null  float64\n",
      " 3   duration      9137 non-null   float64\n",
      " 4   ongoing       14578 non-null  bool   \n",
      " 5   startYr       14356 non-null  float64\n",
      " 6   finishYr      14134 non-null  float64\n",
      " 7   sznOfRelease  3767 non-null   object \n",
      " 8   description   8173 non-null   object \n",
      " 9   studios       14578 non-null  object \n",
      " 10  tags          14578 non-null  object \n",
      " 11  contentWarn   14578 non-null  object \n",
      " 12  watched       14356 non-null  float64\n",
      " 13  watching      14578 non-null  int64  \n",
      " 14  wantWatch     14578 non-null  int64  \n",
      " 15  dropped       14578 non-null  int64  \n",
      " 16  rating        12107 non-null  float64\n",
      " 17  votes         12119 non-null  float64\n",
      "dtypes: bool(1), float64(7), int64(3), object(7)\n",
      "memory usage: 1.9+ MB\n",
      "None\n"
     ]
    }
   ],
   "source": [
    "print(\"Anime:\\n\")\n",
    "print(dataset.info())"
   ]
  },
  {
   "cell_type": "code",
   "execution_count": 343,
   "id": "exterior-physiology",
   "metadata": {
    "scrolled": false
   },
   "outputs": [
    {
     "data": {
      "text/plain": [
       "count     12119.000000\n",
       "mean       2085.787771\n",
       "std        5946.283685\n",
       "min          10.000000\n",
       "25%          34.000000\n",
       "50%         218.000000\n",
       "75%        1412.500000\n",
       "max      131067.000000\n",
       "Name: votes, dtype: float64"
      ]
     },
     "execution_count": 343,
     "metadata": {},
     "output_type": "execute_result"
    }
   ],
   "source": [
    "dataset['votes'].describe()"
   ]
  },
  {
   "cell_type": "code",
   "execution_count": 344,
   "id": "virtual-double",
   "metadata": {},
   "outputs": [
    {
     "data": {
      "text/plain": [
       "count    12107.000000\n",
       "mean         2.948697\n",
       "std          0.827642\n",
       "min          0.844000\n",
       "25%          2.303500\n",
       "50%          2.965000\n",
       "75%          3.615500\n",
       "max          4.702000\n",
       "Name: rating, dtype: float64"
      ]
     },
     "execution_count": 344,
     "metadata": {},
     "output_type": "execute_result"
    }
   ],
   "source": [
    "dataset['rating'].describe()"
   ]
  },
  {
   "cell_type": "code",
   "execution_count": 345,
   "id": "comprehensive-reverse",
   "metadata": {},
   "outputs": [
    {
     "name": "stdout",
     "output_type": "stream",
     "text": [
      "Anime missing values (%): \n",
      "\n",
      "sznOfRelease    74.16\n",
      "description     43.94\n",
      "duration        37.32\n",
      "rating          16.95\n",
      "votes           16.87\n",
      "finishYr         3.05\n",
      "eps              2.46\n",
      "startYr          1.52\n",
      "watched          1.52\n",
      "mediaType        0.47\n",
      "watching         0.00\n",
      "dropped          0.00\n",
      "wantWatch        0.00\n",
      "title            0.00\n",
      "contentWarn      0.00\n",
      "tags             0.00\n",
      "ongoing          0.00\n",
      "studios          0.00\n",
      "dtype: float64\n"
     ]
    }
   ],
   "source": [
    "print(\"Anime missing values (%): \\n\")\n",
    "print(round(dataset.isnull().sum().sort_values(ascending=False)/len(dataset.index),4)*100)"
   ]
  },
  {
   "cell_type": "markdown",
   "id": "seven-offense",
   "metadata": {},
   "source": [
    "The data shows that 5 attribute of the data has null value"
   ]
  },
  {
   "cell_type": "code",
   "execution_count": 346,
   "id": "humanitarian-adelaide",
   "metadata": {},
   "outputs": [
    {
     "name": "stdout",
     "output_type": "stream",
     "text": [
      "0    TV\n",
      "dtype: object\n"
     ]
    }
   ],
   "source": [
    "print(dataset['mediaType'].mode())"
   ]
  },
  {
   "cell_type": "markdown",
   "id": "corresponding-ending",
   "metadata": {},
   "source": [
    "Ada banyak cara untuk memulai melakukan pembersihan data, tetapi salah satu pendekatan yang saya ambil adalah saya akan memberikan threshold berapa jumlah votes minimal yang dibutuhkan agar sebuah anime dapat dimasukkan kedalam perhitungan. Untuk itu kita menggunakan perhitungan weightrating (WR) dari imdb."
   ]
  },
  {
   "cell_type": "code",
   "execution_count": 347,
   "id": "large-blackberry",
   "metadata": {},
   "outputs": [
    {
     "name": "stdout",
     "output_type": "stream",
     "text": [
      "2.9486967869827367\n"
     ]
    }
   ],
   "source": [
    "C = dataset['rating'].mean()\n",
    "print(C)"
   ]
  },
  {
   "cell_type": "code",
   "execution_count": 348,
   "id": "coordinate-airfare",
   "metadata": {},
   "outputs": [
    {
     "name": "stdout",
     "output_type": "stream",
     "text": [
      "1412.5\n"
     ]
    }
   ],
   "source": [
    "m = dataset['votes'].quantile(0.75)\n",
    "print(m)"
   ]
  },
  {
   "cell_type": "code",
   "execution_count": 349,
   "id": "practical-saskatchewan",
   "metadata": {},
   "outputs": [
    {
     "data": {
      "text/plain": [
       "(3030, 18)"
      ]
     },
     "execution_count": 349,
     "metadata": {},
     "output_type": "execute_result"
    }
   ],
   "source": [
    "#Filter out all qualified movies into a new DataFrame\n",
    "q_animes = dataset.copy().loc[dataset['votes'] >= m]\n",
    "q_animes.shape"
   ]
  },
  {
   "cell_type": "code",
   "execution_count": 350,
   "id": "prescribed-driver",
   "metadata": {},
   "outputs": [],
   "source": [
    "def weighted_rating(x, m=m, C=C):\n",
    "    v = x['votes']\n",
    "    R = x['rating']\n",
    "    return (v/(v+m) * R) + (m/(m+v) * C)"
   ]
  },
  {
   "cell_type": "code",
   "execution_count": 351,
   "id": "southwest-delta",
   "metadata": {},
   "outputs": [],
   "source": [
    "q_animes['score'] = q_animes.apply(weighted_rating, axis=1)"
   ]
  },
  {
   "cell_type": "code",
   "execution_count": 352,
   "id": "mighty-softball",
   "metadata": {
    "scrolled": false
   },
   "outputs": [
    {
     "data": {
      "text/html": [
       "<div>\n",
       "<style scoped>\n",
       "    .dataframe tbody tr th:only-of-type {\n",
       "        vertical-align: middle;\n",
       "    }\n",
       "\n",
       "    .dataframe tbody tr th {\n",
       "        vertical-align: top;\n",
       "    }\n",
       "\n",
       "    .dataframe thead th {\n",
       "        text-align: right;\n",
       "    }\n",
       "</style>\n",
       "<table border=\"1\" class=\"dataframe\">\n",
       "  <thead>\n",
       "    <tr style=\"text-align: right;\">\n",
       "      <th></th>\n",
       "      <th>title</th>\n",
       "      <th>votes</th>\n",
       "      <th>rating</th>\n",
       "      <th>score</th>\n",
       "    </tr>\n",
       "  </thead>\n",
       "  <tbody>\n",
       "    <tr>\n",
       "      <th>0</th>\n",
       "      <td>Fullmetal Alchemist: Brotherhood</td>\n",
       "      <td>86547.0</td>\n",
       "      <td>4.702</td>\n",
       "      <td>4.673845</td>\n",
       "    </tr>\n",
       "    <tr>\n",
       "      <th>1</th>\n",
       "      <td>your name.</td>\n",
       "      <td>43960.0</td>\n",
       "      <td>4.663</td>\n",
       "      <td>4.609632</td>\n",
       "    </tr>\n",
       "    <tr>\n",
       "      <th>2</th>\n",
       "      <td>A Silent Voice</td>\n",
       "      <td>33752.0</td>\n",
       "      <td>4.661</td>\n",
       "      <td>4.592220</td>\n",
       "    </tr>\n",
       "    <tr>\n",
       "      <th>7</th>\n",
       "      <td>Hunter x Hunter (2011)</td>\n",
       "      <td>46853.0</td>\n",
       "      <td>4.635</td>\n",
       "      <td>4.585650</td>\n",
       "    </tr>\n",
       "    <tr>\n",
       "      <th>12</th>\n",
       "      <td>Code Geass: Lelouch of the Rebellion R2</td>\n",
       "      <td>64691.0</td>\n",
       "      <td>4.616</td>\n",
       "      <td>4.580373</td>\n",
       "    </tr>\n",
       "    <tr>\n",
       "      <th>11</th>\n",
       "      <td>Steins;Gate</td>\n",
       "      <td>48609.0</td>\n",
       "      <td>4.618</td>\n",
       "      <td>4.570862</td>\n",
       "    </tr>\n",
       "    <tr>\n",
       "      <th>27</th>\n",
       "      <td>Spirited Away</td>\n",
       "      <td>82752.0</td>\n",
       "      <td>4.588</td>\n",
       "      <td>4.560488</td>\n",
       "    </tr>\n",
       "    <tr>\n",
       "      <th>25</th>\n",
       "      <td>One-Punch Man</td>\n",
       "      <td>65392.0</td>\n",
       "      <td>4.593</td>\n",
       "      <td>4.558233</td>\n",
       "    </tr>\n",
       "    <tr>\n",
       "      <th>5</th>\n",
       "      <td>Demon Slayer: Kimetsu no Yaiba</td>\n",
       "      <td>24765.0</td>\n",
       "      <td>4.647</td>\n",
       "      <td>4.555362</td>\n",
       "    </tr>\n",
       "    <tr>\n",
       "      <th>19</th>\n",
       "      <td>My Hero Academia 2</td>\n",
       "      <td>46587.0</td>\n",
       "      <td>4.601</td>\n",
       "      <td>4.552377</td>\n",
       "    </tr>\n",
       "    <tr>\n",
       "      <th>16</th>\n",
       "      <td>My Hero Academia 3</td>\n",
       "      <td>35734.0</td>\n",
       "      <td>4.607</td>\n",
       "      <td>4.543943</td>\n",
       "    </tr>\n",
       "    <tr>\n",
       "      <th>6</th>\n",
       "      <td>Haikyuu!! Second Season</td>\n",
       "      <td>22819.0</td>\n",
       "      <td>4.639</td>\n",
       "      <td>4.540469</td>\n",
       "    </tr>\n",
       "    <tr>\n",
       "      <th>26</th>\n",
       "      <td>Clannad After Story</td>\n",
       "      <td>41715.0</td>\n",
       "      <td>4.590</td>\n",
       "      <td>4.536244</td>\n",
       "    </tr>\n",
       "    <tr>\n",
       "      <th>3</th>\n",
       "      <td>Haikyuu!! Karasuno High School vs Shiratorizaw...</td>\n",
       "      <td>17422.0</td>\n",
       "      <td>4.660</td>\n",
       "      <td>4.531660</td>\n",
       "    </tr>\n",
       "    <tr>\n",
       "      <th>40</th>\n",
       "      <td>Code Geass: Lelouch of the Rebellion</td>\n",
       "      <td>78071.0</td>\n",
       "      <td>4.555</td>\n",
       "      <td>4.526454</td>\n",
       "    </tr>\n",
       "    <tr>\n",
       "      <th>39</th>\n",
       "      <td>Howl's Moving Castle</td>\n",
       "      <td>63527.0</td>\n",
       "      <td>4.557</td>\n",
       "      <td>4.522018</td>\n",
       "    </tr>\n",
       "    <tr>\n",
       "      <th>44</th>\n",
       "      <td>Princess Mononoke</td>\n",
       "      <td>58615.0</td>\n",
       "      <td>4.551</td>\n",
       "      <td>4.513296</td>\n",
       "    </tr>\n",
       "    <tr>\n",
       "      <th>4</th>\n",
       "      <td>Attack on Titan 3rd Season: Part II</td>\n",
       "      <td>15789.0</td>\n",
       "      <td>4.650</td>\n",
       "      <td>4.510298</td>\n",
       "    </tr>\n",
       "    <tr>\n",
       "      <th>31</th>\n",
       "      <td>Wolf Children</td>\n",
       "      <td>26465.0</td>\n",
       "      <td>4.578</td>\n",
       "      <td>4.495446</td>\n",
       "    </tr>\n",
       "    <tr>\n",
       "      <th>62</th>\n",
       "      <td>Cowboy Bebop</td>\n",
       "      <td>58315.0</td>\n",
       "      <td>4.532</td>\n",
       "      <td>4.494556</td>\n",
       "    </tr>\n",
       "  </tbody>\n",
       "</table>\n",
       "</div>"
      ],
      "text/plain": [
       "                                                title    votes  rating  \\\n",
       "0                    Fullmetal Alchemist: Brotherhood  86547.0   4.702   \n",
       "1                                          your name.  43960.0   4.663   \n",
       "2                                      A Silent Voice  33752.0   4.661   \n",
       "7                              Hunter x Hunter (2011)  46853.0   4.635   \n",
       "12            Code Geass: Lelouch of the Rebellion R2  64691.0   4.616   \n",
       "11                                        Steins;Gate  48609.0   4.618   \n",
       "27                                      Spirited Away  82752.0   4.588   \n",
       "25                                      One-Punch Man  65392.0   4.593   \n",
       "5                      Demon Slayer: Kimetsu no Yaiba  24765.0   4.647   \n",
       "19                                 My Hero Academia 2  46587.0   4.601   \n",
       "16                                 My Hero Academia 3  35734.0   4.607   \n",
       "6                             Haikyuu!! Second Season  22819.0   4.639   \n",
       "26                                Clannad After Story  41715.0   4.590   \n",
       "3   Haikyuu!! Karasuno High School vs Shiratorizaw...  17422.0   4.660   \n",
       "40               Code Geass: Lelouch of the Rebellion  78071.0   4.555   \n",
       "39                               Howl's Moving Castle  63527.0   4.557   \n",
       "44                                  Princess Mononoke  58615.0   4.551   \n",
       "4                 Attack on Titan 3rd Season: Part II  15789.0   4.650   \n",
       "31                                      Wolf Children  26465.0   4.578   \n",
       "62                                       Cowboy Bebop  58315.0   4.532   \n",
       "\n",
       "       score  \n",
       "0   4.673845  \n",
       "1   4.609632  \n",
       "2   4.592220  \n",
       "7   4.585650  \n",
       "12  4.580373  \n",
       "11  4.570862  \n",
       "27  4.560488  \n",
       "25  4.558233  \n",
       "5   4.555362  \n",
       "19  4.552377  \n",
       "16  4.543943  \n",
       "6   4.540469  \n",
       "26  4.536244  \n",
       "3   4.531660  \n",
       "40  4.526454  \n",
       "39  4.522018  \n",
       "44  4.513296  \n",
       "4   4.510298  \n",
       "31  4.495446  \n",
       "62  4.494556  "
      ]
     },
     "execution_count": 352,
     "metadata": {},
     "output_type": "execute_result"
    }
   ],
   "source": [
    "q_animes = q_animes.sort_values('score', ascending=False)\n",
    "\n",
    "q_animes[['title', 'votes', 'rating', 'score']].head(20)"
   ]
  },
  {
   "cell_type": "markdown",
   "id": "billion-publication",
   "metadata": {},
   "source": [
    "# Content-Based Recommender"
   ]
  },
  {
   "cell_type": "markdown",
   "id": "premium-image",
   "metadata": {},
   "source": [
    "Dalam melakukan pemilihan remkomendasi, saya akan memberikan rekomendasi dengan plot paling mirip dengan apa yang sudah ditonton."
   ]
  },
  {
   "cell_type": "code",
   "execution_count": 353,
   "id": "adequate-momentum",
   "metadata": {},
   "outputs": [
    {
     "data": {
      "text/plain": [
       "(14578, 31384)"
      ]
     },
     "execution_count": 353,
     "metadata": {},
     "output_type": "execute_result"
    }
   ],
   "source": [
    "from sklearn.feature_extraction.text import TfidfVectorizer\n",
    "\n",
    "tfidf = TfidfVectorizer(stop_words='english')\n",
    "\n",
    "dataset['description'] = dataset['description'].fillna('')\n",
    "\n",
    "tfidf_matrix = tfidf.fit_transform(dataset['description'])\n",
    "\n",
    "tfidf_matrix.shape"
   ]
  },
  {
   "cell_type": "code",
   "execution_count": 354,
   "id": "different-grammar",
   "metadata": {},
   "outputs": [
    {
     "data": {
      "text/plain": [
       "['clow',\n",
       " 'clown',\n",
       " 'club',\n",
       " 'clubroom',\n",
       " 'clubs',\n",
       " 'clue',\n",
       " 'clueless',\n",
       " 'clues',\n",
       " 'clumsily',\n",
       " 'clumsiness']"
      ]
     },
     "execution_count": 354,
     "metadata": {},
     "output_type": "execute_result"
    }
   ],
   "source": [
    "tfidf.get_feature_names()[5000:5010]"
   ]
  },
  {
   "cell_type": "code",
   "execution_count": 355,
   "id": "contained-austria",
   "metadata": {},
   "outputs": [],
   "source": [
    "from sklearn.metrics.pairwise import linear_kernel\n",
    "\n",
    "cosine_sim = linear_kernel(tfidf_matrix, tfidf_matrix)"
   ]
  },
  {
   "cell_type": "code",
   "execution_count": 356,
   "id": "anonymous-prairie",
   "metadata": {},
   "outputs": [
    {
     "data": {
      "text/plain": [
       "(14578, 14578)"
      ]
     },
     "execution_count": 356,
     "metadata": {},
     "output_type": "execute_result"
    }
   ],
   "source": [
    "cosine_sim.shape"
   ]
  },
  {
   "cell_type": "code",
   "execution_count": 357,
   "id": "immune-mineral",
   "metadata": {},
   "outputs": [
    {
     "data": {
      "text/plain": [
       "array([0.01679904, 1.        , 0.0054362 , ..., 0.        , 0.        ,\n",
       "       0.        ])"
      ]
     },
     "execution_count": 357,
     "metadata": {},
     "output_type": "execute_result"
    }
   ],
   "source": [
    "cosine_sim[1]"
   ]
  },
  {
   "cell_type": "code",
   "execution_count": 358,
   "id": "grand-sailing",
   "metadata": {},
   "outputs": [],
   "source": [
    "indices = pd.Series(dataset.index, index=dataset['title']).drop_duplicates()"
   ]
  },
  {
   "cell_type": "code",
   "execution_count": 359,
   "id": "decreased-emission",
   "metadata": {},
   "outputs": [
    {
     "data": {
      "text/plain": [
       "title\n",
       "Fullmetal Alchemist: Brotherhood                           0\n",
       "your name.                                                 1\n",
       "A Silent Voice                                             2\n",
       "Haikyuu!! Karasuno High School vs Shiratorizawa Academy    3\n",
       "Attack on Titan 3rd Season: Part II                        4\n",
       "Demon Slayer: Kimetsu no Yaiba                             5\n",
       "Haikyuu!! Second Season                                    6\n",
       "Hunter x Hunter (2011)                                     7\n",
       "Gintama Kanketsu-hen: Yorozuya yo Eien Nare                8\n",
       "Gintama (2015)                                             9\n",
       "dtype: int64"
      ]
     },
     "execution_count": 359,
     "metadata": {},
     "output_type": "execute_result"
    }
   ],
   "source": [
    "indices[:10]"
   ]
  },
  {
   "cell_type": "code",
   "execution_count": 360,
   "id": "classical-reasoning",
   "metadata": {},
   "outputs": [],
   "source": [
    "def get_recommendations(title, cosine_sim=cosine_sim):\n",
    "    #get index\n",
    "    idx = indices[title]\n",
    "    \n",
    "    #get the pairwise similarity scores\n",
    "    sim_scores = list(enumerate(cosine_sim[idx]))\n",
    "    \n",
    "    #sort the movies based on the similarity scores\n",
    "    sim_scores = sorted(sim_scores, key=lambda x: x[1], reverse=True)\n",
    "    \n",
    "    #get the scores of the 10 most similar anime\n",
    "    sim_scores = sim_scores[1:11]\n",
    "    \n",
    "    #get the anime indices\n",
    "    anime_indices = [i[0] for i in sim_scores]\n",
    "    \n",
    "    #return the top 10 most similar anime\n",
    "    return dataset['title'].iloc[anime_indices]"
   ]
  },
  {
   "cell_type": "code",
   "execution_count": 374,
   "id": "documentary-retro",
   "metadata": {},
   "outputs": [
    {
     "data": {
      "text/plain": [
       "386                      Bakuman.\n",
       "14238                    I'm here\n",
       "1346             Chi's Sweet Home\n",
       "7375     Tayutayu -Pure my Heart-\n",
       "2217                  Comic Girls\n",
       "9294              Ai Tenchi Muyo!\n",
       "84                     Bakuman. 3\n",
       "9431                Dark Side Cat\n",
       "7289         Shadow Star Narutaru\n",
       "12306                   Ero Lover\n",
       "Name: title, dtype: object"
      ]
     },
     "execution_count": 374,
     "metadata": {},
     "output_type": "execute_result"
    }
   ],
   "source": [
    "get_recommendations('The Pet Girl of Sakurasou')"
   ]
  },
  {
   "cell_type": "markdown",
   "id": "literary-victoria",
   "metadata": {},
   "source": [
    "# Adding New Features"
   ]
  },
  {
   "cell_type": "code",
   "execution_count": 362,
   "id": "charming-baptist",
   "metadata": {},
   "outputs": [
    {
     "data": {
      "text/html": [
       "<div>\n",
       "<style scoped>\n",
       "    .dataframe tbody tr th:only-of-type {\n",
       "        vertical-align: middle;\n",
       "    }\n",
       "\n",
       "    .dataframe tbody tr th {\n",
       "        vertical-align: top;\n",
       "    }\n",
       "\n",
       "    .dataframe thead th {\n",
       "        text-align: right;\n",
       "    }\n",
       "</style>\n",
       "<table border=\"1\" class=\"dataframe\">\n",
       "  <thead>\n",
       "    <tr style=\"text-align: right;\">\n",
       "      <th></th>\n",
       "      <th>title</th>\n",
       "      <th>mediaType</th>\n",
       "      <th>eps</th>\n",
       "      <th>duration</th>\n",
       "      <th>ongoing</th>\n",
       "      <th>startYr</th>\n",
       "      <th>finishYr</th>\n",
       "      <th>sznOfRelease</th>\n",
       "      <th>description</th>\n",
       "      <th>studios</th>\n",
       "      <th>tags</th>\n",
       "      <th>contentWarn</th>\n",
       "      <th>watched</th>\n",
       "      <th>watching</th>\n",
       "      <th>wantWatch</th>\n",
       "      <th>dropped</th>\n",
       "      <th>rating</th>\n",
       "      <th>votes</th>\n",
       "    </tr>\n",
       "  </thead>\n",
       "  <tbody>\n",
       "    <tr>\n",
       "      <th>0</th>\n",
       "      <td>Fullmetal Alchemist: Brotherhood</td>\n",
       "      <td>TV</td>\n",
       "      <td>64.0</td>\n",
       "      <td>NaN</td>\n",
       "      <td>False</td>\n",
       "      <td>2009.0</td>\n",
       "      <td>2010.0</td>\n",
       "      <td>Spring</td>\n",
       "      <td>The foundation of alchemy is based on the law ...</td>\n",
       "      <td>['Bones']</td>\n",
       "      <td>['Action', 'Adventure', 'Drama', 'Fantasy', 'M...</td>\n",
       "      <td>['Animal Abuse', 'Mature Themes', 'Violence', ...</td>\n",
       "      <td>103707.0</td>\n",
       "      <td>14351</td>\n",
       "      <td>25810</td>\n",
       "      <td>2656</td>\n",
       "      <td>4.702</td>\n",
       "      <td>86547.0</td>\n",
       "    </tr>\n",
       "    <tr>\n",
       "      <th>1</th>\n",
       "      <td>your name.</td>\n",
       "      <td>Movie</td>\n",
       "      <td>1.0</td>\n",
       "      <td>107.0</td>\n",
       "      <td>False</td>\n",
       "      <td>2016.0</td>\n",
       "      <td>2016.0</td>\n",
       "      <td>NaN</td>\n",
       "      <td>Mitsuha and Taki are two total strangers livin...</td>\n",
       "      <td>['CoMix Wave Films']</td>\n",
       "      <td>['Drama', 'Romance', 'Body Swapping', 'Gender ...</td>\n",
       "      <td>[]</td>\n",
       "      <td>58831.0</td>\n",
       "      <td>1453</td>\n",
       "      <td>21733</td>\n",
       "      <td>124</td>\n",
       "      <td>4.663</td>\n",
       "      <td>43960.0</td>\n",
       "    </tr>\n",
       "    <tr>\n",
       "      <th>2</th>\n",
       "      <td>A Silent Voice</td>\n",
       "      <td>Movie</td>\n",
       "      <td>1.0</td>\n",
       "      <td>130.0</td>\n",
       "      <td>False</td>\n",
       "      <td>2016.0</td>\n",
       "      <td>2016.0</td>\n",
       "      <td>NaN</td>\n",
       "      <td>After transferring into a new school, a deaf g...</td>\n",
       "      <td>['Kyoto Animation']</td>\n",
       "      <td>['Drama', 'Shounen', 'Disability', 'Melancholy...</td>\n",
       "      <td>['Bullying', 'Mature Themes', 'Suicide']</td>\n",
       "      <td>45892.0</td>\n",
       "      <td>946</td>\n",
       "      <td>17148</td>\n",
       "      <td>132</td>\n",
       "      <td>4.661</td>\n",
       "      <td>33752.0</td>\n",
       "    </tr>\n",
       "    <tr>\n",
       "      <th>3</th>\n",
       "      <td>Haikyuu!! Karasuno High School vs Shiratorizaw...</td>\n",
       "      <td>TV</td>\n",
       "      <td>10.0</td>\n",
       "      <td>NaN</td>\n",
       "      <td>False</td>\n",
       "      <td>2016.0</td>\n",
       "      <td>2016.0</td>\n",
       "      <td>Fall</td>\n",
       "      <td>Picking up where the second season ended, the ...</td>\n",
       "      <td>['Production I.G']</td>\n",
       "      <td>['Shounen', 'Sports', 'Animeism', 'School Club...</td>\n",
       "      <td>[]</td>\n",
       "      <td>25134.0</td>\n",
       "      <td>2183</td>\n",
       "      <td>8082</td>\n",
       "      <td>167</td>\n",
       "      <td>4.660</td>\n",
       "      <td>17422.0</td>\n",
       "    </tr>\n",
       "    <tr>\n",
       "      <th>4</th>\n",
       "      <td>Attack on Titan 3rd Season: Part II</td>\n",
       "      <td>TV</td>\n",
       "      <td>10.0</td>\n",
       "      <td>NaN</td>\n",
       "      <td>False</td>\n",
       "      <td>2019.0</td>\n",
       "      <td>2019.0</td>\n",
       "      <td>Spring</td>\n",
       "      <td>The battle to retake Wall Maria begins now! Wi...</td>\n",
       "      <td>['Wit Studio']</td>\n",
       "      <td>['Action', 'Fantasy', 'Horror', 'Shounen', 'Da...</td>\n",
       "      <td>['Cannibalism', 'Explicit Violence']</td>\n",
       "      <td>21308.0</td>\n",
       "      <td>3217</td>\n",
       "      <td>7864</td>\n",
       "      <td>174</td>\n",
       "      <td>4.650</td>\n",
       "      <td>15789.0</td>\n",
       "    </tr>\n",
       "  </tbody>\n",
       "</table>\n",
       "</div>"
      ],
      "text/plain": [
       "                                               title mediaType   eps  \\\n",
       "0                   Fullmetal Alchemist: Brotherhood        TV  64.0   \n",
       "1                                         your name.     Movie   1.0   \n",
       "2                                     A Silent Voice     Movie   1.0   \n",
       "3  Haikyuu!! Karasuno High School vs Shiratorizaw...        TV  10.0   \n",
       "4                Attack on Titan 3rd Season: Part II        TV  10.0   \n",
       "\n",
       "   duration  ongoing  startYr  finishYr sznOfRelease  \\\n",
       "0       NaN    False   2009.0    2010.0       Spring   \n",
       "1     107.0    False   2016.0    2016.0          NaN   \n",
       "2     130.0    False   2016.0    2016.0          NaN   \n",
       "3       NaN    False   2016.0    2016.0         Fall   \n",
       "4       NaN    False   2019.0    2019.0       Spring   \n",
       "\n",
       "                                         description               studios  \\\n",
       "0  The foundation of alchemy is based on the law ...             ['Bones']   \n",
       "1  Mitsuha and Taki are two total strangers livin...  ['CoMix Wave Films']   \n",
       "2  After transferring into a new school, a deaf g...   ['Kyoto Animation']   \n",
       "3  Picking up where the second season ended, the ...    ['Production I.G']   \n",
       "4  The battle to retake Wall Maria begins now! Wi...        ['Wit Studio']   \n",
       "\n",
       "                                                tags  \\\n",
       "0  ['Action', 'Adventure', 'Drama', 'Fantasy', 'M...   \n",
       "1  ['Drama', 'Romance', 'Body Swapping', 'Gender ...   \n",
       "2  ['Drama', 'Shounen', 'Disability', 'Melancholy...   \n",
       "3  ['Shounen', 'Sports', 'Animeism', 'School Club...   \n",
       "4  ['Action', 'Fantasy', 'Horror', 'Shounen', 'Da...   \n",
       "\n",
       "                                         contentWarn   watched  watching  \\\n",
       "0  ['Animal Abuse', 'Mature Themes', 'Violence', ...  103707.0     14351   \n",
       "1                                                 []   58831.0      1453   \n",
       "2           ['Bullying', 'Mature Themes', 'Suicide']   45892.0       946   \n",
       "3                                                 []   25134.0      2183   \n",
       "4               ['Cannibalism', 'Explicit Violence']   21308.0      3217   \n",
       "\n",
       "   wantWatch  dropped  rating    votes  \n",
       "0      25810     2656   4.702  86547.0  \n",
       "1      21733      124   4.663  43960.0  \n",
       "2      17148      132   4.661  33752.0  \n",
       "3       8082      167   4.660  17422.0  \n",
       "4       7864      174   4.650  15789.0  "
      ]
     },
     "execution_count": 362,
     "metadata": {},
     "output_type": "execute_result"
    }
   ],
   "source": [
    "dataset.head(5)"
   ]
  },
  {
   "cell_type": "code",
   "execution_count": 363,
   "id": "cooperative-missouri",
   "metadata": {},
   "outputs": [],
   "source": [
    "def strToList(x):\n",
    "    x = x.replace(\"[\", \"\")\n",
    "    x = x.replace(\"]\", \"\")\n",
    "    x = x.replace(\"'\", \"\")\n",
    "    final = x.split(\",\")\n",
    "    return final"
   ]
  },
  {
   "cell_type": "code",
   "execution_count": 364,
   "id": "early-pickup",
   "metadata": {},
   "outputs": [],
   "source": [
    "def clean_data(x):\n",
    "    x = strToList(x)\n",
    "    if isinstance(x, list):\n",
    "        return [str.lower(i.replace(\" \", \"\")) for i in x]\n",
    "    else:\n",
    "        if isinstance(x, str):\n",
    "            return str.lower(x.replace(\" \", \"\"))\n",
    "        else:\n",
    "            return ''"
   ]
  },
  {
   "cell_type": "code",
   "execution_count": 365,
   "id": "musical-colon",
   "metadata": {},
   "outputs": [],
   "source": [
    "features = ['studios', 'tags', 'contentWarn']\n",
    "\n",
    "for feature in features:\n",
    "    dataset[feature] = dataset[feature].apply(clean_data)"
   ]
  },
  {
   "cell_type": "code",
   "execution_count": 366,
   "id": "still-davis",
   "metadata": {},
   "outputs": [],
   "source": [
    "def create_soup(x):\n",
    "    return ' '.join(x['studios']) + ' ' + ' '.join(x['tags']) + ' ' + ' '.join(x['contentWarn'])"
   ]
  },
  {
   "cell_type": "code",
   "execution_count": 367,
   "id": "appropriate-median",
   "metadata": {},
   "outputs": [],
   "source": [
    "dataset['soup'] = dataset.apply(create_soup, axis=1)"
   ]
  },
  {
   "cell_type": "code",
   "execution_count": 368,
   "id": "insured-jamaica",
   "metadata": {},
   "outputs": [
    {
     "data": {
      "text/html": [
       "<div>\n",
       "<style scoped>\n",
       "    .dataframe tbody tr th:only-of-type {\n",
       "        vertical-align: middle;\n",
       "    }\n",
       "\n",
       "    .dataframe tbody tr th {\n",
       "        vertical-align: top;\n",
       "    }\n",
       "\n",
       "    .dataframe thead th {\n",
       "        text-align: right;\n",
       "    }\n",
       "</style>\n",
       "<table border=\"1\" class=\"dataframe\">\n",
       "  <thead>\n",
       "    <tr style=\"text-align: right;\">\n",
       "      <th></th>\n",
       "      <th>soup</th>\n",
       "    </tr>\n",
       "  </thead>\n",
       "  <tbody>\n",
       "    <tr>\n",
       "      <th>0</th>\n",
       "      <td>bones action adventure drama fantasy mystery s...</td>\n",
       "    </tr>\n",
       "    <tr>\n",
       "      <th>1</th>\n",
       "      <td>comixwavefilms drama romance bodyswapping gend...</td>\n",
       "    </tr>\n",
       "  </tbody>\n",
       "</table>\n",
       "</div>"
      ],
      "text/plain": [
       "                                                soup\n",
       "0  bones action adventure drama fantasy mystery s...\n",
       "1  comixwavefilms drama romance bodyswapping gend..."
      ]
     },
     "execution_count": 368,
     "metadata": {},
     "output_type": "execute_result"
    }
   ],
   "source": [
    "dataset[['soup']].head(2)"
   ]
  },
  {
   "cell_type": "code",
   "execution_count": 369,
   "id": "boxed-cheese",
   "metadata": {},
   "outputs": [],
   "source": [
    "from sklearn.feature_extraction.text import CountVectorizer\n",
    "\n",
    "count = CountVectorizer(stop_words='english')\n",
    "count_matrix = count.fit_transform(dataset['soup'])"
   ]
  },
  {
   "cell_type": "code",
   "execution_count": 370,
   "id": "another-italy",
   "metadata": {},
   "outputs": [
    {
     "data": {
      "text/plain": [
       "(14578, 1045)"
      ]
     },
     "execution_count": 370,
     "metadata": {},
     "output_type": "execute_result"
    }
   ],
   "source": [
    "count_matrix.shape"
   ]
  },
  {
   "cell_type": "code",
   "execution_count": 371,
   "id": "molecular-glance",
   "metadata": {},
   "outputs": [],
   "source": [
    "from sklearn.metrics.pairwise import cosine_similarity\n",
    "\n",
    "cosine_sim2 = cosine_similarity(count_matrix, count_matrix)"
   ]
  },
  {
   "cell_type": "code",
   "execution_count": 372,
   "id": "retired-consent",
   "metadata": {},
   "outputs": [],
   "source": [
    "dataset = dataset.reset_index()\n",
    "indices = pd.Series(dataset.index, index = dataset['title'])"
   ]
  },
  {
   "cell_type": "code",
   "execution_count": 373,
   "id": "rotary-trash",
   "metadata": {},
   "outputs": [
    {
     "data": {
      "text/plain": [
       "2093         HENNEKO - The Hentai Prince and the Stony Cat\n",
       "771                      Love, Chunibyo & Other Delusions!\n",
       "166                                              Toradora!\n",
       "1504           ORESUKI: Are you the only one who loves me?\n",
       "2032                      Okami-san & Her Seven Companions\n",
       "625                          My Teen Romantic Comedy SNAFU\n",
       "1190         Love, Chunibyo & Other Delusions: Heart Throb\n",
       "2528     Love, Chunibyo, & Other Delusions: Rikka Takan...\n",
       "3896                                         Shomin Sample\n",
       "14096                       Bottom-tier Character Tomozaki\n",
       "Name: title, dtype: object"
      ]
     },
     "execution_count": 373,
     "metadata": {},
     "output_type": "execute_result"
    }
   ],
   "source": [
    "get_recommendations('The Pet Girl of Sakurasou', cosine_sim2)"
   ]
  },
  {
   "cell_type": "code",
   "execution_count": null,
   "id": "strong-liberty",
   "metadata": {},
   "outputs": [],
   "source": []
  }
 ],
 "metadata": {
  "kernelspec": {
   "display_name": "Python 3",
   "language": "python",
   "name": "python3"
  },
  "language_info": {
   "codemirror_mode": {
    "name": "ipython",
    "version": 3
   },
   "file_extension": ".py",
   "mimetype": "text/x-python",
   "name": "python",
   "nbconvert_exporter": "python",
   "pygments_lexer": "ipython3",
   "version": "3.9.1"
  }
 },
 "nbformat": 4,
 "nbformat_minor": 5
}
